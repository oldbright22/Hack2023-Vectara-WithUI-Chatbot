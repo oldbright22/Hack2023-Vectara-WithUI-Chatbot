{
 "cells": [
  {
   "attachments": {},
   "cell_type": "markdown",
   "metadata": {},
   "source": [
    "## 🔎 Scraping Decathlon Products Reviews"
   ]
  },
  {
   "attachments": {},
   "cell_type": "markdown",
   "metadata": {},
   "source": [
    "### I. Importing libraries"
   ]
  },
  {
   "cell_type": "code",
   "execution_count": 1,
   "metadata": {},
   "outputs": [
    {
     "name": "stderr",
     "output_type": "stream",
     "text": [
      "c:\\Python310\\lib\\site-packages\\requests\\__init__.py:102: RequestsDependencyWarning: urllib3 (1.26.16) or chardet (5.1.0)/charset_normalizer (2.0.12) doesn't match a supported version!\n",
      "  warnings.warn(\"urllib3 ({}) or chardet ({})/charset_normalizer ({}) doesn't match a supported \"\n"
     ]
    }
   ],
   "source": [
    "from bs4 import BeautifulSoup as bs\n",
    "from tqdm import tqdm\n",
    "import pandas as pd\n",
    "import requests"
   ]
  },
  {
   "attachments": {},
   "cell_type": "markdown",
   "metadata": {},
   "source": [
    "Function that extracts reviews from a product url"
   ]
  },
  {
   "cell_type": "code",
   "execution_count": 49,
   "metadata": {},
   "outputs": [],
   "source": [
    "def extract_reviews(url):\n",
    "    \"\"\"\n",
    "    Function that extracts product reviews using beautifulsoup\n",
    "    \"\"\"\n",
    "    \n",
    "    page = requests.get(url)\n",
    "\n",
    "    soup = bs(page.content, 'html.parser')\n",
    "\n",
    "    names = soup.find_all('span',class_='reviewer')\n",
    "\n",
    "    cust_name = []\n",
    "    for i in range(0,len(names)):\n",
    "        cust_name.append(names[i].get_text())\n",
    "    \n",
    "\n",
    "    review_dates = soup.find_all('time',class_='dtreviewed')\n",
    "\n",
    "    review_date = []\n",
    "    for i in range(0,len(review_dates)):\n",
    "        review_date.append(review_dates[i].get_text().strip())\n",
    "        \n",
    "\n",
    "    review_titles = soup.find_all('span',class_='fn')\n",
    "\n",
    "    review_title = []\n",
    "    for i in range(0,len(review_titles)):\n",
    "        review_title.append(review_titles[i].get_text().strip())\n",
    "\n",
    "    \n",
    "    review_items = soup.find_all('div', class_='oyreviews-content-item')\n",
    "\n",
    "    review_scores = []\n",
    "    for item in review_items:\n",
    "        review_span = item.find_all('span', class_='rating')\n",
    "        review_scores.append(review_span)\n",
    "\n",
    "    review_score = [score[0]['title'] for score in review_scores]\n",
    "\n",
    "\n",
    "    range_used_since = soup.find_all('span', class_='range-used-since')\n",
    "\n",
    "    range_used = []\n",
    "    for i in range(0,len(range_used_since)):\n",
    "        range_used.append(range_used_since[i].get_text().strip())\n",
    "    \n",
    "    if len(range_used) < 10:\n",
    "        range_used.append(\"NaN\")\n",
    "        \n",
    "        \n",
    "    review_descriptions = soup.find_all('blockquote', class_='description')\n",
    "\n",
    "    review_description = []\n",
    "    for i in range(0,len(review_descriptions)):\n",
    "        review_description.append(review_descriptions[i].get_text().strip())\n",
    "\n",
    "    df = pd.DataFrame({\n",
    "        'cust_name': cust_name,\n",
    "        'review_date': review_date,\n",
    "        'review_title': review_title,\n",
    "        'review_description': review_description,\n",
    "        'range_used': range_used,\n",
    "        'review_score': review_score\n",
    "    })\n",
    "\n",
    "    return df"
   ]
  },
  {
   "attachments": {},
   "cell_type": "markdown",
   "metadata": {},
   "source": [
    "### 1. 🏋🏻 KIT HALTÈRES DE MUSCULATION 20KG (CORENGTH)"
   ]
  },
  {
   "cell_type": "code",
   "execution_count": 20,
   "metadata": {},
   "outputs": [
    {
     "name": "stderr",
     "output_type": "stream",
     "text": [
      "100%|██████████| 30/30 [00:11<00:00,  2.51it/s]\n"
     ]
    }
   ],
   "source": [
    "# Create an empty list to store all the dataframes\n",
    "halteres_dfs = []\n",
    "\n",
    "\"\"\"\n",
    "Product : KIT HALTÈRES DE MUSCULATION 20KG\n",
    "Ref. 8018574\n",
    "\"\"\"\n",
    "\n",
    "for page in tqdm(range(1, 31)):\n",
    "    url = f\"https://www.decathlon.ma/modules/openvoice/openvoice-render.php?id_model=8018574&reviews_page={page}\"\n",
    "    df_halteres = extract_reviews(url)\n",
    "    halteres_dfs.append(df_halteres)"
   ]
  },
  {
   "cell_type": "code",
   "execution_count": 7,
   "metadata": {},
   "outputs": [
    {
     "data": {
      "text/plain": [
       "(300, 6)"
      ]
     },
     "execution_count": 7,
     "metadata": {},
     "output_type": "execute_result"
    }
   ],
   "source": [
    "# Concatenate all the dataframes into a single dataframe\n",
    "df_halteres = pd.concat(halteres_dfs, ignore_index=True)\n",
    "df_halteres.shape"
   ]
  },
  {
   "cell_type": "code",
   "execution_count": 11,
   "metadata": {},
   "outputs": [
    {
     "data": {
      "text/html": [
       "<div>\n",
       "<style scoped>\n",
       "    .dataframe tbody tr th:only-of-type {\n",
       "        vertical-align: middle;\n",
       "    }\n",
       "\n",
       "    .dataframe tbody tr th {\n",
       "        vertical-align: top;\n",
       "    }\n",
       "\n",
       "    .dataframe thead th {\n",
       "        text-align: right;\n",
       "    }\n",
       "</style>\n",
       "<table border=\"1\" class=\"dataframe\">\n",
       "  <thead>\n",
       "    <tr style=\"text-align: right;\">\n",
       "      <th></th>\n",
       "      <th>cust_name</th>\n",
       "      <th>review_date</th>\n",
       "      <th>review_title</th>\n",
       "      <th>review_description</th>\n",
       "      <th>range_used</th>\n",
       "      <th>review_score</th>\n",
       "    </tr>\n",
       "  </thead>\n",
       "  <tbody>\n",
       "    <tr>\n",
       "      <th>0</th>\n",
       "      <td>Ouioui</td>\n",
       "      <td>20/02/2023</td>\n",
       "      <td>Tres bon article</td>\n",
       "      <td>Merci Decathlon</td>\n",
       "      <td>Utilise ce produit depuis 2 à 8 semaines</td>\n",
       "      <td>5</td>\n",
       "    </tr>\n",
       "    <tr>\n",
       "      <th>1</th>\n",
       "      <td>Khalid</td>\n",
       "      <td>04/01/2023</td>\n",
       "      <td>Le prix</td>\n",
       "      <td>399dh c'est le juste prix. Pas moyen que quelq...</td>\n",
       "      <td>Utilise ce produit depuis 2 à 8 semaines</td>\n",
       "      <td>3</td>\n",
       "    </tr>\n",
       "    <tr>\n",
       "      <th>2</th>\n",
       "      <td>Mohamed</td>\n",
       "      <td>12/12/2022</td>\n",
       "      <td>beatiful product</td>\n",
       "      <td>very useful product with good quality i advice...</td>\n",
       "      <td>Utilise ce produit depuis 1 semaine ou moins</td>\n",
       "      <td>5</td>\n",
       "    </tr>\n",
       "    <tr>\n",
       "      <th>3</th>\n",
       "      <td>Ouzzine</td>\n",
       "      <td>08/12/2022</td>\n",
       "      <td>رائعة</td>\n",
       "      <td>ثمن مناسب جدا</td>\n",
       "      <td>Utilise ce produit depuis 2 à 8 semaines</td>\n",
       "      <td>5</td>\n",
       "    </tr>\n",
       "    <tr>\n",
       "      <th>4</th>\n",
       "      <td>Hatim</td>\n",
       "      <td>01/12/2022</td>\n",
       "      <td>Bien</td>\n",
       "      <td>Bien</td>\n",
       "      <td>Utilise ce produit depuis 1 semaine ou moins</td>\n",
       "      <td>5</td>\n",
       "    </tr>\n",
       "  </tbody>\n",
       "</table>\n",
       "</div>"
      ],
      "text/plain": [
       "  cust_name review_date      review_title  \\\n",
       "0    Ouioui  20/02/2023  Tres bon article   \n",
       "1    Khalid  04/01/2023           Le prix   \n",
       "2   Mohamed  12/12/2022  beatiful product   \n",
       "3   Ouzzine  08/12/2022             رائعة   \n",
       "4     Hatim  01/12/2022              Bien   \n",
       "\n",
       "                                  review_description  \\\n",
       "0                                    Merci Decathlon   \n",
       "1  399dh c'est le juste prix. Pas moyen que quelq...   \n",
       "2  very useful product with good quality i advice...   \n",
       "3                                      ثمن مناسب جدا   \n",
       "4                                               Bien   \n",
       "\n",
       "                                     range_used review_score  \n",
       "0      Utilise ce produit depuis 2 à 8 semaines            5  \n",
       "1      Utilise ce produit depuis 2 à 8 semaines            3  \n",
       "2  Utilise ce produit depuis 1 semaine ou moins            5  \n",
       "3      Utilise ce produit depuis 2 à 8 semaines            5  \n",
       "4  Utilise ce produit depuis 1 semaine ou moins            5  "
      ]
     },
     "execution_count": 11,
     "metadata": {},
     "output_type": "execute_result"
    }
   ],
   "source": [
    "df_halteres.head()"
   ]
  },
  {
   "cell_type": "code",
   "execution_count": 9,
   "metadata": {},
   "outputs": [],
   "source": [
    "data_path = '../data/reviews/raw/'\n",
    "\n",
    "df_halteres.to_csv(data_path + 'kit-halteres-reviews.csv', index=False)"
   ]
  },
  {
   "attachments": {},
   "cell_type": "markdown",
   "metadata": {},
   "source": [
    "### 2. 👟 SANDALES DE RANDONNÉE - NH100 - HOMME (QUECHUA)"
   ]
  },
  {
   "cell_type": "code",
   "execution_count": 50,
   "metadata": {},
   "outputs": [
    {
     "name": "stderr",
     "output_type": "stream",
     "text": [
      "100%|██████████| 30/30 [00:11<00:00,  2.55it/s]\n"
     ]
    }
   ],
   "source": [
    "# Create an empty list to store all the dataframes\n",
    "sandales_dfs = []\n",
    "\n",
    "\"\"\"\n",
    "Product : SANDALES DE RANDONNÉE - NH100 - HOMME\n",
    "Ref. 8664487\n",
    "\"\"\"\n",
    "\n",
    "for page in tqdm(range(1, 31)):\n",
    "    url = f\"https://www.decathlon.ma/modules/openvoice/openvoice-render.php?id_model=8664487&reviews_page={page}\"\n",
    "    df_sandales = extract_reviews(url)\n",
    "    sandales_dfs.append(df_sandales)"
   ]
  },
  {
   "cell_type": "code",
   "execution_count": 51,
   "metadata": {},
   "outputs": [
    {
     "data": {
      "text/plain": [
       "(300, 6)"
      ]
     },
     "execution_count": 51,
     "metadata": {},
     "output_type": "execute_result"
    }
   ],
   "source": [
    "# Concatenate all the dataframes into a single dataframe\n",
    "df_sandales = pd.concat(sandales_dfs, ignore_index=True)\n",
    "df_sandales.shape"
   ]
  },
  {
   "cell_type": "code",
   "execution_count": 52,
   "metadata": {},
   "outputs": [
    {
     "data": {
      "text/html": [
       "<div>\n",
       "<style scoped>\n",
       "    .dataframe tbody tr th:only-of-type {\n",
       "        vertical-align: middle;\n",
       "    }\n",
       "\n",
       "    .dataframe tbody tr th {\n",
       "        vertical-align: top;\n",
       "    }\n",
       "\n",
       "    .dataframe thead th {\n",
       "        text-align: right;\n",
       "    }\n",
       "</style>\n",
       "<table border=\"1\" class=\"dataframe\">\n",
       "  <thead>\n",
       "    <tr style=\"text-align: right;\">\n",
       "      <th></th>\n",
       "      <th>cust_name</th>\n",
       "      <th>review_date</th>\n",
       "      <th>review_title</th>\n",
       "      <th>review_description</th>\n",
       "      <th>range_used</th>\n",
       "      <th>review_score</th>\n",
       "    </tr>\n",
       "  </thead>\n",
       "  <tbody>\n",
       "    <tr>\n",
       "      <th>0</th>\n",
       "      <td>Edriaa</td>\n",
       "      <td>30/04/2023</td>\n",
       "      <td>Bien</td>\n",
       "      <td>Bien</td>\n",
       "      <td>Utilise ce produit depuis 1 semaine ou moins</td>\n",
       "      <td>5</td>\n",
       "    </tr>\n",
       "    <tr>\n",
       "      <th>1</th>\n",
       "      <td>Badr belmaachi</td>\n",
       "      <td>11/02/2023</td>\n",
       "      <td>jdida</td>\n",
       "      <td>Salam</td>\n",
       "      <td>Utilise ce produit depuis Plus de 2 ans</td>\n",
       "      <td>5</td>\n",
       "    </tr>\n",
       "    <tr>\n",
       "      <th>2</th>\n",
       "      <td>Khalid</td>\n",
       "      <td>02/01/2023</td>\n",
       "      <td>42</td>\n",
       "      <td>1</td>\n",
       "      <td>Utilise ce produit depuis 3 à 6 mois</td>\n",
       "      <td>5</td>\n",
       "    </tr>\n",
       "    <tr>\n",
       "      <th>3</th>\n",
       "      <td>Youssef</td>\n",
       "      <td>08/10/2022</td>\n",
       "      <td>Comfortable</td>\n",
       "      <td>It is comfortable and practical</td>\n",
       "      <td>Utilise ce produit depuis 2 à 8 semaines</td>\n",
       "      <td>5</td>\n",
       "    </tr>\n",
       "    <tr>\n",
       "      <th>4</th>\n",
       "      <td>Youssef</td>\n",
       "      <td>02/10/2022</td>\n",
       "      <td>Sandales</td>\n",
       "      <td>C'est bien</td>\n",
       "      <td>Utilise ce produit depuis 2 à 8 semaines</td>\n",
       "      <td>4</td>\n",
       "    </tr>\n",
       "  </tbody>\n",
       "</table>\n",
       "</div>"
      ],
      "text/plain": [
       "        cust_name review_date review_title               review_description  \\\n",
       "0          Edriaa  30/04/2023         Bien                             Bien   \n",
       "1  Badr belmaachi  11/02/2023        jdida                            Salam   \n",
       "2          Khalid  02/01/2023           42                                1   \n",
       "3         Youssef  08/10/2022  Comfortable  It is comfortable and practical   \n",
       "4         Youssef  02/10/2022     Sandales                       C'est bien   \n",
       "\n",
       "                                     range_used review_score  \n",
       "0  Utilise ce produit depuis 1 semaine ou moins            5  \n",
       "1       Utilise ce produit depuis Plus de 2 ans            5  \n",
       "2          Utilise ce produit depuis 3 à 6 mois            5  \n",
       "3      Utilise ce produit depuis 2 à 8 semaines            5  \n",
       "4      Utilise ce produit depuis 2 à 8 semaines            4  "
      ]
     },
     "execution_count": 52,
     "metadata": {},
     "output_type": "execute_result"
    }
   ],
   "source": [
    "df_sandales.head()"
   ]
  },
  {
   "cell_type": "code",
   "execution_count": 53,
   "metadata": {},
   "outputs": [],
   "source": [
    "data_path = '../data/reviews/raw/'\n",
    "\n",
    "df_sandales.to_csv(data_path + 'sandales-randonnee-reviews.csv', index=False)"
   ]
  }
 ],
 "metadata": {
  "kernelspec": {
   "display_name": "Python 3",
   "language": "python",
   "name": "python3"
  },
  "language_info": {
   "codemirror_mode": {
    "name": "ipython",
    "version": 3
   },
   "file_extension": ".py",
   "mimetype": "text/x-python",
   "name": "python",
   "nbconvert_exporter": "python",
   "pygments_lexer": "ipython3",
   "version": "3.10.5"
  },
  "orig_nbformat": 4
 },
 "nbformat": 4,
 "nbformat_minor": 2
}
