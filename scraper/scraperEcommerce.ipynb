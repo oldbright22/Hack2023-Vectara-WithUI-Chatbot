{
 "cells": [
  {
   "attachments": {},
   "cell_type": "markdown",
   "metadata": {},
   "source": [
    "## 🔎 Scraping Products Reviews from AMAZON"
   ]
  },
  {
   "attachments": {},
   "cell_type": "markdown",
   "metadata": {},
   "source": [
    "### I. Importing libraries"
   ]
  },
  {
   "cell_type": "code",
   "execution_count": null,
   "metadata": {},
   "outputs": [],
   "source": [
    "from bs4 import BeautifulSoup as bs\n",
    "from tqdm import tqdm\n",
    "import pandas as pd\n",
    "import requests"
   ]
  },
  {
   "attachments": {},
   "cell_type": "markdown",
   "metadata": {},
   "source": [
    "Function that extracts reviews from a product url"
   ]
  },
  {
   "cell_type": "code",
   "execution_count": 6,
   "metadata": {},
   "outputs": [],
   "source": [
    "def extract_reviews(url):\n",
    "    \"\"\"\n",
    "    Function that extracts product reviews using beautifulsoup\n",
    "    \"\"\"\n",
    "    \n",
    "    page = requests.get(url)\n",
    "\n",
    "    soup = bs(page.content, 'html.parser')\n",
    "\n",
    "\n",
    "\n",
    "    names = soup.find_all('span',class_='a-profile-name')\n",
    "\n",
    "    cust_name = []\n",
    "    for i in range(0,len(names)):\n",
    "        cust_name.append(names[i].get_text())\n",
    "    \n",
    "\n",
    "    review_dates = soup.find_all('time',class_='review-date')\n",
    "\n",
    "    review_date = []\n",
    "    for i in range(0,len(review_dates)):\n",
    "        review_date.append(review_dates[i].get_text().strip())\n",
    "        \n",
    "\n",
    "    #review_titles = soup.find_all('span',class_='fn')\n",
    "\n",
    "    #review_title = []\n",
    "    #for i in range(0,len(review_titles)):\n",
    "    #    review_title.append(review_titles[i].get_text().strip())\n",
    "\n",
    "    \n",
    "    review_scores = soup.find_all('span',class_='review-star-rating')\n",
    "\n",
    "    review_score = []\n",
    "    for i in range(0,len(review_scores)):\n",
    "        review_score.append(review_scores[i].get_text())\n",
    "    \n",
    "\n",
    "    #review_items = soup.find_all('div', class_='review-body')\n",
    "\n",
    "    #review_scores = []\n",
    "    #for item in review_items:\n",
    "    #    review_span = item.find_all('span', class_='review-star-rating')\n",
    "    #    review_scores.append(review_span)\n",
    "\n",
    "    #review_score = [score[0]['title'] for score in review_scores]\n",
    "\n",
    "\n",
    "    #range_used_since = soup.find_all('span', class_='range-used-since')\n",
    "\n",
    "    #range_used = []\n",
    "    #for i in range(0,len(range_used_since)):\n",
    "    #    range_used.append(range_used_since[i].get_text().strip())\n",
    "    \n",
    "    #if len(range_used) < 10:\n",
    "    #    range_used.append(\"NaN\")\n",
    "        \n",
    "        \n",
    "    #review_descriptions = soup.find_all('blockquote', class_='description')\n",
    "\n",
    "    #review_description = []\n",
    "    #for i in range(0,len(review_descriptions)):\n",
    "    #    review_description.append(review_descriptions[i].get_text().strip())\n",
    "\n",
    "    df = pd.DataFrame({\n",
    "        'cust_name': cust_name,\n",
    "        'review_date': review_date,\n",
    "        #'review-title': review-title,\n",
    "        #'review-body': review-body,\n",
    "        'review_score': review_score\n",
    "    })\n",
    "\n",
    "    #df = df.transpose()\n",
    "\n",
    "    return df"
   ]
  },
  {
   "attachments": {},
   "cell_type": "markdown",
   "metadata": {},
   "source": [
    "### 1.  VOLLEYBALL BADMINTON COMBO SET"
   ]
  },
  {
   "cell_type": "code",
   "execution_count": 7,
   "metadata": {},
   "outputs": [
    {
     "name": "stderr",
     "output_type": "stream",
     "text": [
      "100%|██████████| 26/26 [00:02<00:00,  9.44it/s]\n"
     ]
    }
   ],
   "source": [
    "# Create an empty list to store all the dataframes\n",
    "badminton_dfs = []\n",
    "\n",
    "\"\"\"\n",
    "Product : Amazon Basics-  Volleyball-Badminton-Combo-Set\n",
    "Ref. B07GXS216T\n",
    "Total Reviews to-date: 279 - 10 reviews per page = 27 loops\n",
    "\"\"\"\n",
    "\n",
    "for page in tqdm(range(1, 27)):\n",
    "    url = f\"https://www.amazon.com/AmazonBasics-Volleyball-Badminton-Combo-Set/product-reviews/B07GXS216T/ref=cm_cr_arp_d_pading_btm_next_{page}?ie=UTF8&reviewerType=all_reviews&pageNumber={page}\"\n",
    "    df_badminton = extract_reviews(url)\n",
    "    badminton_dfs.append(df_badminton)"
   ]
  },
  {
   "cell_type": "code",
   "execution_count": 11,
   "metadata": {},
   "outputs": [
    {
     "name": "stdout",
     "output_type": "stream",
     "text": [
      "[Empty DataFrame\n",
      "Columns: [cust_name, review_date, review_score]\n",
      "Index: [], Empty DataFrame\n",
      "Columns: [cust_name, review_date, review_score]\n",
      "Index: [], Empty DataFrame\n",
      "Columns: [cust_name, review_date, review_score]\n",
      "Index: [], Empty DataFrame\n",
      "Columns: [cust_name, review_date, review_score]\n",
      "Index: [], Empty DataFrame\n",
      "Columns: [cust_name, review_date, review_score]\n",
      "Index: [], Empty DataFrame\n",
      "Columns: [cust_name, review_date, review_score]\n",
      "Index: [], Empty DataFrame\n",
      "Columns: [cust_name, review_date, review_score]\n",
      "Index: [], Empty DataFrame\n",
      "Columns: [cust_name, review_date, review_score]\n",
      "Index: [], Empty DataFrame\n",
      "Columns: [cust_name, review_date, review_score]\n",
      "Index: [], Empty DataFrame\n",
      "Columns: [cust_name, review_date, review_score]\n",
      "Index: [], Empty DataFrame\n",
      "Columns: [cust_name, review_date, review_score]\n",
      "Index: [], Empty DataFrame\n",
      "Columns: [cust_name, review_date, review_score]\n",
      "Index: [], Empty DataFrame\n",
      "Columns: [cust_name, review_date, review_score]\n",
      "Index: [], Empty DataFrame\n",
      "Columns: [cust_name, review_date, review_score]\n",
      "Index: [], Empty DataFrame\n",
      "Columns: [cust_name, review_date, review_score]\n",
      "Index: [], Empty DataFrame\n",
      "Columns: [cust_name, review_date, review_score]\n",
      "Index: [], Empty DataFrame\n",
      "Columns: [cust_name, review_date, review_score]\n",
      "Index: [], Empty DataFrame\n",
      "Columns: [cust_name, review_date, review_score]\n",
      "Index: [], Empty DataFrame\n",
      "Columns: [cust_name, review_date, review_score]\n",
      "Index: [], Empty DataFrame\n",
      "Columns: [cust_name, review_date, review_score]\n",
      "Index: [], Empty DataFrame\n",
      "Columns: [cust_name, review_date, review_score]\n",
      "Index: [], Empty DataFrame\n",
      "Columns: [cust_name, review_date, review_score]\n",
      "Index: [], Empty DataFrame\n",
      "Columns: [cust_name, review_date, review_score]\n",
      "Index: [], Empty DataFrame\n",
      "Columns: [cust_name, review_date, review_score]\n",
      "Index: [], Empty DataFrame\n",
      "Columns: [cust_name, review_date, review_score]\n",
      "Index: [], Empty DataFrame\n",
      "Columns: [cust_name, review_date, review_score]\n",
      "Index: []]\n"
     ]
    },
    {
     "data": {
      "text/plain": [
       "(0, 3)"
      ]
     },
     "execution_count": 11,
     "metadata": {},
     "output_type": "execute_result"
    }
   ],
   "source": [
    "print(badminton_dfs)\n",
    "\n",
    "# Concatenate all the dataframes into a single dataframe\n",
    "df_badminton = pd.concat(badminton_dfs, ignore_index=True)\n",
    "df_badminton.shape"
   ]
  },
  {
   "cell_type": "code",
   "execution_count": 9,
   "metadata": {},
   "outputs": [
    {
     "data": {
      "text/html": [
       "<div>\n",
       "<style scoped>\n",
       "    .dataframe tbody tr th:only-of-type {\n",
       "        vertical-align: middle;\n",
       "    }\n",
       "\n",
       "    .dataframe tbody tr th {\n",
       "        vertical-align: top;\n",
       "    }\n",
       "\n",
       "    .dataframe thead th {\n",
       "        text-align: right;\n",
       "    }\n",
       "</style>\n",
       "<table border=\"1\" class=\"dataframe\">\n",
       "  <thead>\n",
       "    <tr style=\"text-align: right;\">\n",
       "      <th></th>\n",
       "      <th>cust_name</th>\n",
       "      <th>review_date</th>\n",
       "      <th>review_score</th>\n",
       "    </tr>\n",
       "  </thead>\n",
       "  <tbody>\n",
       "  </tbody>\n",
       "</table>\n",
       "</div>"
      ],
      "text/plain": [
       "Empty DataFrame\n",
       "Columns: [cust_name, review_date, review_score]\n",
       "Index: []"
      ]
     },
     "execution_count": 9,
     "metadata": {},
     "output_type": "execute_result"
    }
   ],
   "source": [
    "df_badminton.head()"
   ]
  },
  {
   "cell_type": "code",
   "execution_count": null,
   "metadata": {},
   "outputs": [],
   "source": [
    "data_path = '../data/raw/'\n",
    "\n",
    "df_badminton.to_csv(data_path + 'kit-badminton-reviews.csv', index=False)"
   ]
  },
  {
   "attachments": {},
   "cell_type": "markdown",
   "metadata": {},
   "source": [
    "### 2. AmazonBasics-Ladder-Toss-Outdoor-Carrying"
   ]
  },
  {
   "cell_type": "code",
   "execution_count": null,
   "metadata": {},
   "outputs": [],
   "source": [
    "# Create an empty list to store all the dataframes\n",
    "ladder_dfs = []\n",
    "\n",
    "\"\"\"\n",
    "Product : AMAZON BASICS - LADDER TOSS OUTDOOR CARRYING\n",
    "Ref. B0145IWKBE\n",
    "Total Review = 449, 10 reviews displayed per page = 44 loops\n",
    "\"\"\"\n",
    "\n",
    "for page in tqdm(range(1, 44)):\n",
    "    url = f\"https://www.amazon.com/AmazonBasics-Ladder-Toss-Outdoor-Carrying/product-reviews/B0145IWKBE/ref=cm_cr_arp_d_pading_btm_next_{page}?ie=UTF8&reviewerType=all_reviews&pageNumber={page}\"\n",
    "    df_ladder = extract_reviews(url)\n",
    "    ladder_dfs.append(df_ladder)"
   ]
  },
  {
   "cell_type": "code",
   "execution_count": null,
   "metadata": {},
   "outputs": [],
   "source": [
    "# Concatenate all the dataframes into a single dataframe\n",
    "df_ladder = pd.concat(ladder_dfs, ignore_index=True)\n",
    "df_ladder.shape"
   ]
  },
  {
   "cell_type": "code",
   "execution_count": null,
   "metadata": {},
   "outputs": [],
   "source": [
    "df_ladder.head()"
   ]
  },
  {
   "cell_type": "code",
   "execution_count": null,
   "metadata": {},
   "outputs": [],
   "source": [
    "data_path = '../data/raw/'\n",
    "\n",
    "df_ladder.to_csv(data_path + 'kit-ladder-reviews.csv', index=False)"
   ]
  }
 ],
 "metadata": {
  "kernelspec": {
   "display_name": "Python 3",
   "language": "python",
   "name": "python3"
  },
  "language_info": {
   "codemirror_mode": {
    "name": "ipython",
    "version": 3
   },
   "file_extension": ".py",
   "mimetype": "text/x-python",
   "name": "python",
   "nbconvert_exporter": "python",
   "pygments_lexer": "ipython3",
   "version": "3.10.8"
  },
  "orig_nbformat": 4
 },
 "nbformat": 4,
 "nbformat_minor": 2
}
